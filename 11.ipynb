{
  "nbformat": 4,
  "nbformat_minor": 0,
  "metadata": {
    "colab": {
      "provenance": [],
      "mount_file_id": "1hq9oPZRdYKSlOd8hFX3VWYIjSk84_hGP",
      "authorship_tag": "ABX9TyPbbg+obewSHCuEbZlGKVcV",
      "include_colab_link": true
    },
    "kernelspec": {
      "name": "python3",
      "display_name": "Python 3"
    },
    "language_info": {
      "name": "python"
    }
  },
  "cells": [
    {
      "cell_type": "markdown",
      "metadata": {
        "id": "view-in-github",
        "colab_type": "text"
      },
      "source": [
        "<a href=\"https://colab.research.google.com/github/CJGS4L/stat/blob/main/11.ipynb\" target=\"_parent\"><img src=\"https://colab.research.google.com/assets/colab-badge.svg\" alt=\"Open In Colab\"/></a>"
      ]
    },
    {
      "cell_type": "code",
      "execution_count": null,
      "metadata": {
        "colab": {
          "base_uri": "https://localhost:8080/",
          "height": 242
        },
        "id": "l-xiYWf29jL7",
        "outputId": "9776b08d-d973-48ad-98f9-cb05fdc19c79"
      },
      "outputs": [
        {
          "output_type": "error",
          "ename": "FileNotFoundError",
          "evalue": "ignored",
          "traceback": [
            "\u001b[0;31m---------------------------------------------------------------------------\u001b[0m",
            "\u001b[0;31mFileNotFoundError\u001b[0m                         Traceback (most recent call last)",
            "\u001b[0;32m<ipython-input-1-d2240fc999e7>\u001b[0m in \u001b[0;36m<cell line: 18>\u001b[0;34m()\u001b[0m\n\u001b[1;32m     16\u001b[0m \u001b[0;32mfrom\u001b[0m \u001b[0mmpmath\u001b[0m \u001b[0;32mimport\u001b[0m \u001b[0mmp\u001b[0m\u001b[0;34m\u001b[0m\u001b[0;34m\u001b[0m\u001b[0m\n\u001b[1;32m     17\u001b[0m \u001b[0;34m\u001b[0m\u001b[0m\n\u001b[0;32m---> 18\u001b[0;31m \u001b[0mf\u001b[0m \u001b[0;34m=\u001b[0m \u001b[0mopen\u001b[0m\u001b[0;34m(\u001b[0m\u001b[0;34m'/pi.txt'\u001b[0m\u001b[0;34m)\u001b[0m\u001b[0;34m\u001b[0m\u001b[0;34m\u001b[0m\u001b[0m\n\u001b[0m\u001b[1;32m     19\u001b[0m \u001b[0mf\u001b[0m\u001b[0;34m.\u001b[0m\u001b[0mread\u001b[0m\u001b[0;34m(\u001b[0m\u001b[0;36m2\u001b[0m\u001b[0;34m)\u001b[0m\u001b[0;34m\u001b[0m\u001b[0;34m\u001b[0m\u001b[0m\n\u001b[1;32m     20\u001b[0m \u001b[0mp\u001b[0m \u001b[0;34m=\u001b[0m \u001b[0;34m[\u001b[0m\u001b[0;36m0\u001b[0m\u001b[0;34m]\u001b[0m\u001b[0;34m*\u001b[0m\u001b[0;36m10\u001b[0m\u001b[0;34m\u001b[0m\u001b[0;34m\u001b[0m\u001b[0m\n",
            "\u001b[0;31mFileNotFoundError\u001b[0m: [Errno 2] No such file or directory: '/pi.txt'"
          ]
        }
      ],
      "source": [
        "#1#\n",
        "import numpy as np\n",
        "import math\n",
        "import pandas as pd\n",
        "import matplotlib.pyplot as plt\n",
        "import seaborn as sns\n",
        "import scipy.stats as ss\n",
        "import statistics as st\n",
        "\n",
        "import matplotlib.pyplot as plt\n",
        "import math\n",
        "import scipy.stats as st\n",
        "import random\n",
        "import numpy as np\n",
        "import scipy.optimize as opt\n",
        "from mpmath import mp\n",
        "\n",
        "f = open('/pi.txt')\n",
        "f.read(2)\n",
        "p = [0]*10\n",
        "Xi_sq = 0\n",
        "for i in range(1000):\n",
        "  cur = int(f.read(1))\n",
        "  for j in range(10):\n",
        "    if(cur == j):\n",
        "      p[j]+=1\n",
        "for i in range(10):\n",
        "  Xi_sq += (p[i]-1000*1/10)**2/(1000*1/10)\n",
        "print(Xi_sq)\n",
        "#да, можно, критическое значение 16.9"
      ]
    },
    {
      "cell_type": "code",
      "source": [
        "#2#\n",
        "#df = pd.read_csv(\"/Priem (2).csv\",encoding=\"cp1251\",sep=\";\")\n",
        "df = pd.read_csv(\"/Priem (2).csv\")\n",
        "#data_m = data.loc[data['Пол'] == 'МУЖСКОЙ']\n",
        "#data_g =  data.loc[data['Пол'] == 'ЖЕНСКИЙ']\n",
        "\n",
        "\n",
        "boys = df[df['Пол']=='МУЖСКОЙ'][['Сумма.баллов','Пол','ЕГЭ...матем.','ЕГЭ...рус.яз.']]\n",
        "\n",
        "girls=df[df['Пол']=='ЖЕНСКИЙ'][['Сумма.баллов','Пол','ЕГЭ...матем.','ЕГЭ...рус.яз.']]\n",
        "\n",
        "sumboys=[len(boys[boys['Сумма.баллов'].between(250+16*i,250+16*(i+1))]) for i in range(10)]\n",
        "sumgirls=[len(girls[girls['Сумма.баллов'].between(250+16*i,(i+1)*16+250)]) for i in range(10)]\n",
        "\n",
        "t_statistic, p_value1, _, _ = ss.chi2_contingency([sumboys, sumgirls])\n",
        "\n",
        "if p_value1 < 0.05:\n",
        "  print(\"неоднородны\",p_value1)\n",
        "else:\n",
        "  print(\"однородны\", p_value1)\n",
        "\n",
        "mathboys=[len(boys[boys['ЕГЭ...матем.'].between(i*5+55,55+(i+1)*5)]) for i in range(9)]\n",
        "mathgirls=[len(girls[girls['ЕГЭ...матем.'].between(i*5+55,55+(i+1)*5)]) for i in range(9)]\n",
        "\n",
        "\n",
        "t_statistic1, p_value2, _, _ = ss.chi2_contingency([mathboys, mathgirls])\n",
        "if p_value2 < 0.05:\n",
        "  print(\"неоднородны\",p_value2)\n",
        "else:\n",
        "  print(\"однородны\", p_value2)\n",
        "\n",
        "rusboys=[len(boys[boys['ЕГЭ...рус.яз.'].between(i*5+55,55+(i+1)*5)]) for i in range(9)]\n",
        "rusgirls=[len(girls[girls['ЕГЭ...рус.яз.'].between(i*5+55,55+(i+1)*5)]) for i in range(9)]\n",
        "t_statistic2, p_value3, _, _ = ss.chi2_contingency([rusboys, rusgirls])\n",
        "if p_value3 < 0.05:\n",
        "    print(\"неоднородны\",p_value3)\n",
        "else:\n",
        "    print(\"однородны\")\n",
        "\n",
        "math_rus=[[len(df[df['ЕГЭ...матем.'].between(i*5+55,55+(i+1)*5)]), len(df[df['ЕГЭ...рус.яз.'].between(i*5+55,(i+1)*5+55)])] for i in range(9)]\n",
        "\n",
        "chi2, p_value, _, _ = ss.chi2_contingency([math_rus])\n",
        "print( p_value)\n",
        "if p_value < 0.05:\n",
        "    print(\"зависимы\")\n",
        "else:\n",
        "    print(\"независимы\")\n"
      ],
      "metadata": {
        "id": "NNFlPiVye3ub",
        "colab": {
          "base_uri": "https://localhost:8080/"
        },
        "outputId": "2f54ff39-68dd-4f02-a458-5c3d2358c271"
      },
      "execution_count": null,
      "outputs": [
        {
          "output_type": "stream",
          "name": "stdout",
          "text": [
            "однородны 0.06003661094522903\n",
            "однородны 0.7101513218843266\n",
            "неоднородны 6.947207680385093e-16\n",
            "1.469466637673227e-19\n",
            "зависимы\n"
          ]
        }
      ]
    },
    {
      "cell_type": "code",
      "source": [
        "#3#\n",
        "\n",
        "a = 5\n",
        "for n in [ 50, 100, 500, 1000]:\n",
        "    x =0\n",
        "    Key = [x + i for i in range(a)]\n",
        "    print(Key)\n",
        "    pv_1 = []\n",
        "    pv_2 = []\n",
        "    pv_3 =[]\n",
        "    pv_4 =[]\n",
        "    pv_5 = []\n",
        "    pv_1_2 = []\n",
        "    pv_2_2 = []\n",
        "    pv_3_2 =[]\n",
        "    pv_4_2 =[]\n",
        "    pv_5_2 = []\n",
        "    x = 1 / 99\n",
        "    xlist = [x + i / 99 for i in range(100)]\n",
        "    for _ in range(100):\n",
        "        Count = [0 for i in range(a)]\n",
        "        Count2 = [0 for i in range(a)]\n",
        "        sample = st.randint.rvs(size = n, low = 0, high = a)\n",
        "        sample2 = st.randint.rvs(size = n, low = 0, high = a +2)\n",
        "        flag = 0\n",
        "        count2 = 0\n",
        "        for i in range (a):\n",
        "            count = 0\n",
        "            count2 =0\n",
        "            for p in sample:\n",
        "                if (p == Key[i]):\n",
        "                    count = count + 1\n",
        "                    flag = 1\n",
        "            for p in sample2:\n",
        "                if (p == Key[i]):\n",
        "                    count2 = count2 + 1\n",
        "            Count2[i]=count2\n",
        "            Count[i]=count\n",
        "        for p in sample2:\n",
        "            if p == a:\n",
        "                Count2[0]= Count[0] + 1\n",
        "            if p == a +1:\n",
        "                Count2[1] = Count2[1] + 1\n",
        "\n",
        "        lambd = -1\n",
        "        T = 0\n",
        "        T2 =0\n",
        "        for i in range(a):\n",
        "            T = T + Count[i] * (- math.log(a * Count[i]/ (n))* n / (a *Count[i]))\n",
        "            T2 = T2 + Count2[i] * (- math.log(a * Count2[i]/ (n))* n / (a *Count2[i]))\n",
        "        T = T * 2\n",
        "        T2 = T2 * 2\n",
        "        pv_1.append( 1 - st.chi2.cdf(T , a-1 ))\n",
        "        pv_1_2.append( 1 - st.chi2.cdf(T2 , a-1 ))\n",
        "\n",
        "\n",
        "        lambd = 0\n",
        "        T = 0\n",
        "        T2 = 0\n",
        "        for i in range(a):\n",
        "            T = T + Count[i] * math.log(a * Count[i]/n)\n",
        "            T2 = T2 + Count2[i] * math.log(a * Count2[i]/n)\n",
        "        T = T * 2\n",
        "        T2 = T2 * 2\n",
        "        pv_2.append( 1 - st.chi2.cdf(T , a-1 ))\n",
        "        pv_2_2.append( 1 - st.chi2.cdf(T2 , a-1 ))\n",
        "\n",
        "        for lambd in [0.5, 1, 2]:\n",
        "            T = 0\n",
        "            T2 =0\n",
        "            for i in range(a):\n",
        "                T = T + Count[i] * ((Count[i] * a/n)** lambd - 1)\n",
        "                T2 = T2 + Count2[i] * ((Count2[i] * a/n)** lambd - 1)\n",
        "            T = T * 2 /(lambd*(lambd+1))\n",
        "            T2 = T2 * 2 /(lambd*(lambd+1))\n",
        "            if lambd == 0.5:\n",
        "                pv_3.append(1 - st.chi2.cdf(T , a-1 ))\n",
        "                pv_3_2.append(1 - st.chi2.cdf(T2 , a-1 ))\n",
        "            if lambd == 1:\n",
        "                pv_4.append(1 - st.chi2.cdf(T , a-1 ))\n",
        "                pv_4_2.append(1 - st.chi2.cdf(T2 , a-1 ))\n",
        "            if lambd == 2:\n",
        "                pv_5.append(1 - st.chi2.cdf(T , a-1 ))\n",
        "                pv_5_2.append(1 - st.chi2.cdf(T2 , a-1 ))\n",
        "\n",
        "    pv_1.sort()\n",
        "    plt.plot(pv_1, xlist)\n",
        "    pv_2.sort()\n",
        "    plt.plot(pv_2, xlist)\n",
        "    pv_3.sort()\n",
        "    plt.plot(pv_3, xlist)\n",
        "    pv_4.sort()\n",
        "    plt.plot(pv_4, xlist)\n",
        "    pv_5.sort()\n",
        "    plt.plot(pv_5, xlist)\n",
        "    pv_1_2.sort()\n",
        "    plt.plot(pv_1_2, xlist)\n",
        "    pv_2_2.sort()\n",
        "    plt.plot(pv_2_2, xlist)\n",
        "    pv_3_2.sort()\n",
        "    plt.plot(pv_3_2, xlist)\n",
        "    pv_4_2.sort()\n",
        "    plt.plot(pv_4_2, xlist)\n",
        "    pv_5_2.sort()\n",
        "    plt.plot(pv_5_2, xlist)\n",
        "    plt.show()"
      ],
      "metadata": {
        "colab": {
          "base_uri": "https://localhost:8080/",
          "height": 259
        },
        "id": "AoNrYzo4x9AQ",
        "outputId": "4e033343-69e6-4e93-ccbe-67fdb3ea1a6b"
      },
      "execution_count": null,
      "outputs": [
        {
          "output_type": "stream",
          "name": "stdout",
          "text": [
            "[0, 1, 2, 3, 4]\n"
          ]
        },
        {
          "output_type": "error",
          "ename": "ValueError",
          "evalue": "ignored",
          "traceback": [
            "\u001b[0;31m---------------------------------------------------------------------------\u001b[0m",
            "\u001b[0;31mValueError\u001b[0m                                Traceback (most recent call last)",
            "\u001b[0;32m<ipython-input-3-5905adc0d135>\u001b[0m in \u001b[0;36m<cell line: 4>\u001b[0;34m()\u001b[0m\n\u001b[1;32m     48\u001b[0m         \u001b[0;32mfor\u001b[0m \u001b[0mi\u001b[0m \u001b[0;32min\u001b[0m \u001b[0mrange\u001b[0m\u001b[0;34m(\u001b[0m\u001b[0ma\u001b[0m\u001b[0;34m)\u001b[0m\u001b[0;34m:\u001b[0m\u001b[0;34m\u001b[0m\u001b[0;34m\u001b[0m\u001b[0m\n\u001b[1;32m     49\u001b[0m             \u001b[0mT\u001b[0m \u001b[0;34m=\u001b[0m \u001b[0mT\u001b[0m \u001b[0;34m+\u001b[0m \u001b[0mCount\u001b[0m\u001b[0;34m[\u001b[0m\u001b[0mi\u001b[0m\u001b[0;34m]\u001b[0m \u001b[0;34m*\u001b[0m \u001b[0;34m(\u001b[0m\u001b[0;34m-\u001b[0m \u001b[0mmath\u001b[0m\u001b[0;34m.\u001b[0m\u001b[0mlog\u001b[0m\u001b[0;34m(\u001b[0m\u001b[0ma\u001b[0m \u001b[0;34m*\u001b[0m \u001b[0mCount\u001b[0m\u001b[0;34m[\u001b[0m\u001b[0mi\u001b[0m\u001b[0;34m]\u001b[0m\u001b[0;34m/\u001b[0m \u001b[0;34m(\u001b[0m\u001b[0mn\u001b[0m\u001b[0;34m)\u001b[0m\u001b[0;34m)\u001b[0m\u001b[0;34m*\u001b[0m \u001b[0mn\u001b[0m \u001b[0;34m/\u001b[0m \u001b[0;34m(\u001b[0m\u001b[0ma\u001b[0m \u001b[0;34m*\u001b[0m\u001b[0mCount\u001b[0m\u001b[0;34m[\u001b[0m\u001b[0mi\u001b[0m\u001b[0;34m]\u001b[0m\u001b[0;34m)\u001b[0m\u001b[0;34m)\u001b[0m\u001b[0;34m\u001b[0m\u001b[0;34m\u001b[0m\u001b[0m\n\u001b[0;32m---> 50\u001b[0;31m             \u001b[0mT2\u001b[0m \u001b[0;34m=\u001b[0m \u001b[0mT2\u001b[0m \u001b[0;34m+\u001b[0m \u001b[0mCount2\u001b[0m\u001b[0;34m[\u001b[0m\u001b[0mi\u001b[0m\u001b[0;34m]\u001b[0m \u001b[0;34m*\u001b[0m \u001b[0;34m(\u001b[0m\u001b[0;34m-\u001b[0m \u001b[0mmath\u001b[0m\u001b[0;34m.\u001b[0m\u001b[0mlog\u001b[0m\u001b[0;34m(\u001b[0m\u001b[0ma\u001b[0m \u001b[0;34m*\u001b[0m \u001b[0mCount2\u001b[0m\u001b[0;34m[\u001b[0m\u001b[0mi\u001b[0m\u001b[0;34m]\u001b[0m\u001b[0;34m/\u001b[0m \u001b[0;34m(\u001b[0m\u001b[0mn\u001b[0m\u001b[0;34m)\u001b[0m\u001b[0;34m)\u001b[0m\u001b[0;34m*\u001b[0m \u001b[0mn\u001b[0m \u001b[0;34m/\u001b[0m \u001b[0;34m(\u001b[0m\u001b[0ma\u001b[0m \u001b[0;34m*\u001b[0m\u001b[0mCount2\u001b[0m\u001b[0;34m[\u001b[0m\u001b[0mi\u001b[0m\u001b[0;34m]\u001b[0m\u001b[0;34m)\u001b[0m\u001b[0;34m)\u001b[0m\u001b[0;34m\u001b[0m\u001b[0;34m\u001b[0m\u001b[0m\n\u001b[0m\u001b[1;32m     51\u001b[0m         \u001b[0mT\u001b[0m \u001b[0;34m=\u001b[0m \u001b[0mT\u001b[0m \u001b[0;34m*\u001b[0m \u001b[0;36m2\u001b[0m\u001b[0;34m\u001b[0m\u001b[0;34m\u001b[0m\u001b[0m\n\u001b[1;32m     52\u001b[0m         \u001b[0mT2\u001b[0m \u001b[0;34m=\u001b[0m \u001b[0mT2\u001b[0m \u001b[0;34m*\u001b[0m \u001b[0;36m2\u001b[0m\u001b[0;34m\u001b[0m\u001b[0;34m\u001b[0m\u001b[0m\n",
            "\u001b[0;31mValueError\u001b[0m: math domain error"
          ]
        }
      ]
    }
  ]
}